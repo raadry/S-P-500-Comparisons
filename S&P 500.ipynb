{
 "cells": [
  {
   "cell_type": "markdown",
   "id": "4fde2d17",
   "metadata": {},
   "source": [
    "# Part One: Collecting & Displaying Data"
   ]
  },
  {
   "cell_type": "code",
   "execution_count": 1,
   "id": "71ac6765",
   "metadata": {},
   "outputs": [],
   "source": [
    "#pip install yfinance  #You must run this code to get access to the yfinance package for the first time.\n",
    "#The libraries below must be imported first to execute our program.\n",
    "\n",
    "import yfinance as yf\n",
    "import pandas as pd\n",
    "import numpy as np\n",
    "import matplotlib.pyplot as plt\n",
    "from sklearn.linear_model import LinearRegression\n",
    "import sklearn.metrics as metrics"
   ]
  },
  {
   "cell_type": "markdown",
   "id": "4db1aeef",
   "metadata": {},
   "source": [
    "### Nvidia Corporation (NVDA)"
   ]
  },
  {
   "cell_type": "code",
   "execution_count": 2,
   "id": "315ce550",
   "metadata": {},
   "outputs": [
    {
     "name": "stdout",
     "output_type": "stream",
     "text": [
      "[*********************100%***********************]  1 of 1 completed\n"
     ]
    },
    {
     "data": {
      "text/plain": [
       "Date\n",
       "2019-01-02    33.84\n",
       "2019-01-03    31.79\n",
       "2019-01-04    33.83\n",
       "2019-01-07    35.62\n",
       "2019-01-08    34.73\n",
       "              ...  \n",
       "2019-12-24    59.50\n",
       "2019-12-26    59.65\n",
       "2019-12-27    59.07\n",
       "2019-12-30    57.93\n",
       "2019-12-31    58.68\n",
       "Name: Nvidia Closing Prices, Length: 252, dtype: float64"
      ]
     },
     "execution_count": 2,
     "metadata": {},
     "output_type": "execute_result"
    }
   ],
   "source": [
    "NDtick=\"NVDA\"\n",
    "Nvidia=yf.download(NDtick, start=\"2019-1-1\", end=\"2020-1-1\", rounding=True)[\"Adj Close\"]\n",
    "Nvidia.name=\"Nvidia Closing Prices\"\n",
    "Nvidia"
   ]
  },
  {
   "cell_type": "code",
   "execution_count": 3,
   "id": "9b739b80",
   "metadata": {},
   "outputs": [
    {
     "name": "stdout",
     "output_type": "stream",
     "text": [
      "First Five Rows of Nvidia Closing Prices:\n",
      "Date\n",
      "2019-01-02    33.84\n",
      "2019-01-03    31.79\n",
      "2019-01-04    33.83\n",
      "2019-01-07    35.62\n",
      "2019-01-08    34.73\n",
      "Name: Nvidia Closing Prices, dtype: float64\n",
      "\n",
      "Total Count of Nvidia Closing Prices: 252\n"
     ]
    }
   ],
   "source": [
    "print(\"First Five Rows of Nvidia Closing Prices:\", Nvidia.head(), sep='\\n') #Q1.b\n",
    "print(\"\")\n",
    "print(\"Total Count of Nvidia Closing Prices:\", Nvidia.count())"
   ]
  },
  {
   "cell_type": "markdown",
   "id": "7761de10",
   "metadata": {},
   "source": [
    "### Johnson & Johnson (JNJ)"
   ]
  },
  {
   "cell_type": "code",
   "execution_count": 4,
   "id": "9cf8dcce",
   "metadata": {},
   "outputs": [
    {
     "name": "stdout",
     "output_type": "stream",
     "text": [
      "[*********************100%***********************]  1 of 1 completed\n"
     ]
    },
    {
     "data": {
      "text/plain": [
       "Date\n",
       "2019-01-02    117.99\n",
       "2019-01-03    116.11\n",
       "2019-01-04    118.06\n",
       "2019-01-07    117.30\n",
       "2019-01-08    120.03\n",
       "               ...  \n",
       "2019-12-24    138.58\n",
       "2019-12-26    138.48\n",
       "2019-12-27    138.40\n",
       "2019-12-30    137.98\n",
       "2019-12-31    138.52\n",
       "Name: Johnson & Johnson Closing Prices, Length: 252, dtype: float64"
      ]
     },
     "execution_count": 4,
     "metadata": {},
     "output_type": "execute_result"
    }
   ],
   "source": [
    "JJtick=\"JNJ\"\n",
    "JnJ=yf.download(JJtick, start=\"2019-1-1\", end=\"2020-1-1\", rounding=True)[\"Adj Close\"]\n",
    "JnJ.name=\"Johnson & Johnson Closing Prices\"\n",
    "JnJ"
   ]
  },
  {
   "cell_type": "code",
   "execution_count": 5,
   "id": "825bb364",
   "metadata": {},
   "outputs": [
    {
     "name": "stdout",
     "output_type": "stream",
     "text": [
      "First Five Rows of Johnson & Johnson Closing Prices:\n",
      "Date\n",
      "2019-01-02    117.99\n",
      "2019-01-03    116.11\n",
      "2019-01-04    118.06\n",
      "2019-01-07    117.30\n",
      "2019-01-08    120.03\n",
      "Name: Johnson & Johnson Closing Prices, dtype: float64\n",
      "\n",
      "Total Count of Johnson & Johnson Closing Prices: 252\n"
     ]
    }
   ],
   "source": [
    "print(\"First Five Rows of Johnson & Johnson Closing Prices:\", JnJ.head(), sep='\\n') #Q1.b\n",
    "print(\"\")\n",
    "print(\"Total Count of Johnson & Johnson Closing Prices:\", JnJ.count())"
   ]
  },
  {
   "cell_type": "markdown",
   "id": "a6f98c20",
   "metadata": {},
   "source": [
    "### Apple Inc. (AAPL)"
   ]
  },
  {
   "cell_type": "code",
   "execution_count": 6,
   "id": "a1618aed",
   "metadata": {
    "scrolled": true
   },
   "outputs": [
    {
     "name": "stdout",
     "output_type": "stream",
     "text": [
      "[*********************100%***********************]  1 of 1 completed\n"
     ]
    },
    {
     "data": {
      "text/plain": [
       "Date\n",
       "2019-01-02    38.33\n",
       "2019-01-03    34.51\n",
       "2019-01-04    35.98\n",
       "2019-01-07    35.90\n",
       "2019-01-08    36.59\n",
       "              ...  \n",
       "2019-12-24    70.03\n",
       "2019-12-26    71.42\n",
       "2019-12-27    71.39\n",
       "2019-12-30    71.81\n",
       "2019-12-31    72.34\n",
       "Name: Apple Closing Prices, Length: 252, dtype: float64"
      ]
     },
     "execution_count": 6,
     "metadata": {},
     "output_type": "execute_result"
    }
   ],
   "source": [
    "APtick=\"AAPL\"\n",
    "Apple=yf.download(APtick, start=\"2019-1-1\", end=\"2020-1-1\", rounding=True)[\"Adj Close\"]\n",
    "Apple.name=\"Apple Closing Prices\"\n",
    "Apple"
   ]
  },
  {
   "cell_type": "code",
   "execution_count": 7,
   "id": "2242bdf0",
   "metadata": {},
   "outputs": [
    {
     "name": "stdout",
     "output_type": "stream",
     "text": [
      "First Five Rows of Apple Closing Prices:\n",
      "Date\n",
      "2019-01-02    38.33\n",
      "2019-01-03    34.51\n",
      "2019-01-04    35.98\n",
      "2019-01-07    35.90\n",
      "2019-01-08    36.59\n",
      "Name: Apple Closing Prices, dtype: float64\n",
      "\n",
      "Total Count of Apple Closing Prices: 252\n"
     ]
    }
   ],
   "source": [
    "print(\"First Five Rows of Apple Closing Prices:\", Apple.head(), sep='\\n') #Q1.b\n",
    "print(\"\")\n",
    "print(\"Total Count of Apple Closing Prices:\", Apple.count())"
   ]
  },
  {
   "cell_type": "markdown",
   "id": "721fd554",
   "metadata": {},
   "source": [
    "### Spotify Technology S.A. (SPOT)"
   ]
  },
  {
   "cell_type": "code",
   "execution_count": 8,
   "id": "aa5ff6e9",
   "metadata": {},
   "outputs": [
    {
     "name": "stdout",
     "output_type": "stream",
     "text": [
      "[*********************100%***********************]  1 of 1 completed\n"
     ]
    },
    {
     "data": {
      "text/plain": [
       "Date\n",
       "2019-01-02    113.74\n",
       "2019-01-03    109.02\n",
       "2019-01-04    118.51\n",
       "2019-01-07    119.36\n",
       "2019-01-08    117.48\n",
       "               ...  \n",
       "2019-12-24    151.82\n",
       "2019-12-26    152.52\n",
       "2019-12-27    153.17\n",
       "2019-12-30    149.81\n",
       "2019-12-31    149.55\n",
       "Name: Spotify Closing Prices, Length: 252, dtype: float64"
      ]
     },
     "execution_count": 8,
     "metadata": {},
     "output_type": "execute_result"
    }
   ],
   "source": [
    "SPOTtick=\"SPOT\"\n",
    "Spotify=yf.download(SPOTtick, start=\"2019-1-1\", end=\"2020-1-1\", rounding=True)[\"Adj Close\"]\n",
    "Spotify.name=\"Spotify Closing Prices\"\n",
    "Spotify"
   ]
  },
  {
   "cell_type": "code",
   "execution_count": 9,
   "id": "dff13acd",
   "metadata": {},
   "outputs": [
    {
     "name": "stdout",
     "output_type": "stream",
     "text": [
      "First Five Rows of Spotify Closing Prices:\n",
      "Date\n",
      "2019-01-02    113.74\n",
      "2019-01-03    109.02\n",
      "2019-01-04    118.51\n",
      "2019-01-07    119.36\n",
      "2019-01-08    117.48\n",
      "Name: Spotify Closing Prices, dtype: float64\n",
      "\n",
      "Total Count of Spotify Closing Prices: 252\n"
     ]
    }
   ],
   "source": [
    "print(\"First Five Rows of Spotify Closing Prices:\", Spotify.head(), sep='\\n') #Q1.b\n",
    "print(\"\")\n",
    "print(\"Total Count of Spotify Closing Prices:\", Spotify.count())"
   ]
  },
  {
   "cell_type": "markdown",
   "id": "86254e08",
   "metadata": {},
   "source": [
    "### Tesla Inc. (TSLA)"
   ]
  },
  {
   "cell_type": "code",
   "execution_count": 10,
   "id": "a046b92b",
   "metadata": {},
   "outputs": [
    {
     "name": "stdout",
     "output_type": "stream",
     "text": [
      "[*********************100%***********************]  1 of 1 completed\n"
     ]
    },
    {
     "data": {
      "text/plain": [
       "Date\n",
       "2019-01-02    310.12\n",
       "2019-01-03    300.36\n",
       "2019-01-04    317.69\n",
       "2019-01-07    334.96\n",
       "2019-01-08    335.35\n",
       "               ...  \n",
       "2019-12-24    425.25\n",
       "2019-12-26    430.94\n",
       "2019-12-27    430.38\n",
       "2019-12-30    414.70\n",
       "2019-12-31    418.33\n",
       "Name: Tesla Closing Prices, Length: 252, dtype: float64"
      ]
     },
     "execution_count": 10,
     "metadata": {},
     "output_type": "execute_result"
    }
   ],
   "source": [
    "TSLAtick =\"TSLA\"\n",
    "Tesla=yf.download(TSLAtick, start=\"2019-1-1\", end=\"2020-1-1\", rounding=True)[\"Adj Close\"]\n",
    "Tesla.name=\"Tesla Closing Prices\"\n",
    "Tesla"
   ]
  },
  {
   "cell_type": "code",
   "execution_count": 11,
   "id": "db2a753d",
   "metadata": {},
   "outputs": [
    {
     "name": "stdout",
     "output_type": "stream",
     "text": [
      "First Five Rows of Tesla Closing Prices:\n",
      "Date\n",
      "2019-01-02    310.12\n",
      "2019-01-03    300.36\n",
      "2019-01-04    317.69\n",
      "2019-01-07    334.96\n",
      "2019-01-08    335.35\n",
      "Name: Tesla Closing Prices, dtype: float64\n",
      "\n",
      "Total Count of Tesla Closing Prices: 252\n"
     ]
    }
   ],
   "source": [
    "print(\"First Five Rows of Tesla Closing Prices:\", Tesla.head(), sep='\\n') #Q1.b\n",
    "print(\"\")\n",
    "print(\"Total Count of Tesla Closing Prices:\", Tesla.count())"
   ]
  },
  {
   "cell_type": "markdown",
   "id": "c1dbec70",
   "metadata": {},
   "source": [
    "### S&P 500 (^GSPC)"
   ]
  },
  {
   "cell_type": "code",
   "execution_count": 12,
   "id": "1d3cf312",
   "metadata": {},
   "outputs": [
    {
     "name": "stdout",
     "output_type": "stream",
     "text": [
      "[*********************100%***********************]  1 of 1 completed\n"
     ]
    },
    {
     "data": {
      "text/plain": [
       "Date\n",
       "2019-01-02    2510.03\n",
       "2019-01-03    2447.89\n",
       "2019-01-04    2531.94\n",
       "2019-01-07    2549.69\n",
       "2019-01-08    2574.41\n",
       "               ...   \n",
       "2019-12-24    3223.38\n",
       "2019-12-26    3239.91\n",
       "2019-12-27    3240.02\n",
       "2019-12-30    3221.29\n",
       "2019-12-31    3230.78\n",
       "Name: S&P 500 Closing Prices, Length: 252, dtype: float64"
      ]
     },
     "execution_count": 12,
     "metadata": {},
     "output_type": "execute_result"
    }
   ],
   "source": [
    "SPtick=\"^GSPC\"\n",
    "SP500=yf.download(SPtick, start=\"2019-1-1\", end=\"2020-1-1\", rounding=True)[\"Adj Close\"]\n",
    "SP500.name=\"S&P 500 Closing Prices\"\n",
    "SP500"
   ]
  },
  {
   "cell_type": "code",
   "execution_count": 13,
   "id": "322dbb49",
   "metadata": {},
   "outputs": [
    {
     "name": "stdout",
     "output_type": "stream",
     "text": [
      "First Five Rows of S&P 500 Closing Prices:\n",
      "Date\n",
      "2019-01-02    2510.03\n",
      "2019-01-03    2447.89\n",
      "2019-01-04    2531.94\n",
      "2019-01-07    2549.69\n",
      "2019-01-08    2574.41\n",
      "Name: S&P 500 Closing Prices, dtype: float64\n",
      "\n",
      "Total Count of S&P 500 Closing Prices: 252\n"
     ]
    }
   ],
   "source": [
    "print(\"First Five Rows of S&P 500 Closing Prices:\", SP500.head(), sep='\\n') #Q1.c\n",
    "print(\"\")\n",
    "print(\"Total Count of S&P 500 Closing Prices:\", SP500.count())"
   ]
  },
  {
   "cell_type": "markdown",
   "id": "8c1df9d4",
   "metadata": {},
   "source": [
    "# Part Two: Processing Data"
   ]
  },
  {
   "cell_type": "markdown",
   "id": "2b02a7be",
   "metadata": {},
   "source": [
    "### Nvidia Corporation (NVDA)"
   ]
  },
  {
   "cell_type": "code",
   "execution_count": 14,
   "id": "55897f7d",
   "metadata": {},
   "outputs": [
    {
     "data": {
      "text/plain": [
       "Date\n",
       "2019-01-03   -0.060579\n",
       "2019-01-04    0.064171\n",
       "2019-01-07    0.052912\n",
       "2019-01-08   -0.024986\n",
       "2019-01-09    0.019868\n",
       "                ...   \n",
       "2019-12-24   -0.000840\n",
       "2019-12-26    0.002521\n",
       "2019-12-27   -0.009723\n",
       "2019-12-30   -0.019299\n",
       "2019-12-31    0.012947\n",
       "Name: Nvidia Percentage Change, Length: 251, dtype: float64"
      ]
     },
     "execution_count": 14,
     "metadata": {},
     "output_type": "execute_result"
    }
   ],
   "source": [
    "NDDaily_Change=Nvidia.pct_change() #Q2.a\n",
    "NDDaily_Change.name=\"Nvidia Percentage Change\"\n",
    "NDDaily_Change=NDDaily_Change.drop(pd.Timestamp(\"2019-01-02\")) #Must Include this step to remove the NaN value\n",
    "NDDaily_Change"
   ]
  },
  {
   "cell_type": "code",
   "execution_count": 15,
   "id": "45282fd2",
   "metadata": {
    "scrolled": true
   },
   "outputs": [
    {
     "name": "stdout",
     "output_type": "stream",
     "text": [
      "First Five Rows of Nvidia Percentage Change:\n",
      "Date\n",
      "2019-01-03   -0.060579\n",
      "2019-01-04    0.064171\n",
      "2019-01-07    0.052912\n",
      "2019-01-08   -0.024986\n",
      "2019-01-09    0.019868\n",
      "Name: Nvidia Percentage Change, dtype: float64\n",
      "\n",
      "Total Count of Nvidia Percentage Change: 251\n"
     ]
    }
   ],
   "source": [
    "print(\"First Five Rows of Nvidia Percentage Change:\", NDDaily_Change.head(), sep='\\n')\n",
    "print(\"\")\n",
    "print(\"Total Count of Nvidia Percentage Change:\", NDDaily_Change.count())"
   ]
  },
  {
   "cell_type": "code",
   "execution_count": 16,
   "id": "e494989c",
   "metadata": {},
   "outputs": [
    {
     "data": {
      "image/png": "[encoded data removed]",
      "text/plain": [
       "<Figure size 1080x720 with 1 Axes>"
      ]
     },
     "metadata": {
      "needs_background": "light"
     },
     "output_type": "display_data"
    }
   ],
   "source": [
    "NDfig = plt.figure(figsize=(15,10)) #Q2.b\n",
    "plt.bar(NDDaily_Change.index, NDDaily_Change.values, width=1.5)\n",
    "plt.xlabel(\"Date\")\n",
    "\n",
    "NDticks_to_use = np.arange(0,len(NDDaily_Change),20)\n",
    "NDlabels = [NDDaily_Change.index[i] for i in NDticks_to_use]\n",
    "plt.xticks(NDlabels, rotation=65)\n",
    "\n",
    "plt.ylabel(\"Daily Percentage Change\")\n",
    "plt.title(\"Nvidia Percentage Change Bar Graph\")\n",
    "plt.show()"
   ]
  },
  {
   "cell_type": "code",
   "execution_count": 17,
   "id": "8b8f90fb",
   "metadata": {},
   "outputs": [
    {
     "name": "stdout",
     "output_type": "stream",
     "text": [
      "Nvidia Percentage Change Statistics\n",
      "\n",
      "Mean: 0.002524464186827252\n",
      "Standard Deviation: 0.025620976228072394\n",
      "Variance: 0.0006564344228794508\n",
      "Minimum: -0.1382604323780794\n",
      "Maximum: 0.07264380232244116\n"
     ]
    }
   ],
   "source": [
    "NDmean=NDDaily_Change.mean() #Q2.c\n",
    "NDstd=NDDaily_Change.std()\n",
    "NDvar=NDstd**2\n",
    "NDmin=NDDaily_Change.min()\n",
    "NDmax=NDDaily_Change.max()\n",
    "\n",
    "print(\"Nvidia Percentage Change Statistics\\n\")\n",
    "print(\"Mean:\",NDmean)\n",
    "print(\"Standard Deviation:\",NDstd)\n",
    "print(\"Variance:\",NDvar)\n",
    "print(\"Minimum:\",NDmin)\n",
    "print(\"Maximum:\",NDmax)"
   ]
  },
  {
   "cell_type": "markdown",
   "id": "8f1be197",
   "metadata": {},
   "source": [
    "### Johnson & Johnson (JNJ)"
   ]
  },
  {
   "cell_type": "code",
   "execution_count": 18,
   "id": "76b8e2ba",
   "metadata": {},
   "outputs": [
    {
     "data": {
      "text/plain": [
       "Date\n",
       "2019-01-03   -0.015934\n",
       "2019-01-04    0.016794\n",
       "2019-01-07   -0.006437\n",
       "2019-01-08    0.023274\n",
       "2019-01-09   -0.007915\n",
       "                ...   \n",
       "2019-12-24   -0.003452\n",
       "2019-12-26   -0.000722\n",
       "2019-12-27   -0.000578\n",
       "2019-12-30   -0.003035\n",
       "2019-12-31    0.003914\n",
       "Name: Johnson & Johnson Percentage Change, Length: 251, dtype: float64"
      ]
     },
     "execution_count": 18,
     "metadata": {},
     "output_type": "execute_result"
    }
   ],
   "source": [
    "JNJDaily_Change=JnJ.pct_change() #Q2.a\n",
    "JNJDaily_Change.name=\"Johnson & Johnson Percentage Change\"\n",
    "JNJDaily_Change=JNJDaily_Change.drop(pd.Timestamp('2019-01-02')) #Must Include this step to remove the NaN value\n",
    "JNJDaily_Change"
   ]
  },
  {
   "cell_type": "code",
   "execution_count": 19,
   "id": "5a041c63",
   "metadata": {
    "scrolled": true
   },
   "outputs": [
    {
     "name": "stdout",
     "output_type": "stream",
     "text": [
      "First Five Rows of Johnson & Johnson Percentage Change:\n",
      "Date\n",
      "2019-01-03   -0.015934\n",
      "2019-01-04    0.016794\n",
      "2019-01-07   -0.006437\n",
      "2019-01-08    0.023274\n",
      "2019-01-09   -0.007915\n",
      "Name: Johnson & Johnson Percentage Change, dtype: float64\n",
      "\n",
      "Total Count of Johnson & Johnson Percentage Change: 251\n"
     ]
    }
   ],
   "source": [
    "print(\"First Five Rows of Johnson & Johnson Percentage Change:\",JNJDaily_Change.head(),sep='\\n')\n",
    "print(\"\")\n",
    "print(\"Total Count of Johnson & Johnson Percentage Change:\",JNJDaily_Change.count())"
   ]
  },
  {
   "cell_type": "code",
   "execution_count": 20,
   "id": "552d27b8",
   "metadata": {},
   "outputs": [
    {
     "data": {
      "image/png": "[encoded data removed]",
      "text/plain": [
       "<Figure size 1080x720 with 1 Axes>"
      ]
     },
     "metadata": {
      "needs_background": "light"
     },
     "output_type": "display_data"
    }
   ],
   "source": [
    "JNJfig = plt.figure(figsize=(15,10)) #Q2.b\n",
    "plt.bar(JNJDaily_Change.index, JNJDaily_Change.values, width=1.5)\n",
    "plt.xlabel(\"Date\")\n",
    "\n",
    "JNJticks_to_use = np.arange(0,len(JNJDaily_Change),20)\n",
    "JNJlabels = [JNJDaily_Change.index[i] for i in JNJticks_to_use]\n",
    "plt.xticks(JNJlabels, rotation=65)\n",
    "\n",
    "plt.ylabel(\"Daily Percentage Change\")\n",
    "plt.title(\"Johnson & Johnson Percentage Change Bar Graph\")\n",
    "plt.show()"
   ]
  },
  {
   "cell_type": "code",
   "execution_count": 21,
   "id": "e5ae85c6",
   "metadata": {},
   "outputs": [
    {
     "name": "stdout",
     "output_type": "stream",
     "text": [
      "Johnson & Johnson Percentage Change Statistics\n",
      "\n",
      "Mean: 0.0006932947027287438\n",
      "Standard Deviation: 0.010367031523766336\n",
      "Variance: 0.00010747534261476497\n",
      "Minimum: -0.06221772309609086\n",
      "Maximum: 0.030445344129554686\n"
     ]
    }
   ],
   "source": [
    "JNJmean=JNJDaily_Change.mean() #Q2.c\n",
    "JNJstd=JNJDaily_Change.std()\n",
    "JNJvar=JNJstd**2\n",
    "JNJmin=JNJDaily_Change.min()\n",
    "JNJmax=JNJDaily_Change.max()\n",
    "\n",
    "print(\"Johnson & Johnson Percentage Change Statistics\\n\")\n",
    "print(\"Mean:\",JNJmean)\n",
    "print(\"Standard Deviation:\",JNJstd)\n",
    "print(\"Variance:\",JNJvar)\n",
    "print(\"Minimum:\",JNJmin)\n",
    "print(\"Maximum:\",JNJmax)"
   ]
  },
  {
   "cell_type": "markdown",
   "id": "310239ac",
   "metadata": {},
   "source": [
    "### Apple Inc. (AAPL)"
   ]
  },
  {
   "cell_type": "code",
   "execution_count": 22,
   "id": "4ee179fa",
   "metadata": {},
   "outputs": [
    {
     "data": {
      "text/plain": [
       "Date\n",
       "2019-01-03   -0.099661\n",
       "2019-01-04    0.042596\n",
       "2019-01-07   -0.002223\n",
       "2019-01-08    0.019220\n",
       "2019-01-09    0.016945\n",
       "                ...   \n",
       "2019-12-24    0.001001\n",
       "2019-12-26    0.019849\n",
       "2019-12-27   -0.000420\n",
       "2019-12-30    0.005883\n",
       "2019-12-31    0.007381\n",
       "Name: Apple Percentage Change, Length: 251, dtype: float64"
      ]
     },
     "execution_count": 22,
     "metadata": {},
     "output_type": "execute_result"
    }
   ],
   "source": [
    "APDaily_Change=Apple.pct_change() #Q2.a\n",
    "APDaily_Change.name=\"Apple Percentage Change\"\n",
    "APDaily_Change=APDaily_Change.drop(pd.Timestamp(\"2019-01-02\")) #Must Include this step to remove the NaN value\n",
    "APDaily_Change"
   ]
  },
  {
   "cell_type": "code",
   "execution_count": 23,
   "id": "1da114d2",
   "metadata": {},
   "outputs": [
    {
     "name": "stdout",
     "output_type": "stream",
     "text": [
      "First Five Rows of Apple Percentage Change:\n",
      "Date\n",
      "2019-01-03   -0.099661\n",
      "2019-01-04    0.042596\n",
      "2019-01-07   -0.002223\n",
      "2019-01-08    0.019220\n",
      "2019-01-09    0.016945\n",
      "Name: Apple Percentage Change, dtype: float64\n",
      "\n",
      "Total Count of Apple Percentage Change: 251\n"
     ]
    }
   ],
   "source": [
    "print(\"First Five Rows of Apple Percentage Change:\", APDaily_Change.head(), sep='\\n')\n",
    "print(\"\")\n",
    "print(\"Total Count of Apple Percentage Change:\", APDaily_Change.count())"
   ]
  },
  {
   "cell_type": "code",
   "execution_count": 24,
   "id": "68d73d68",
   "metadata": {},
   "outputs": [
    {
     "data": {
      "image/png": "[encoded data removed]",
      "text/plain": [
       "<Figure size 1080x720 with 1 Axes>"
      ]
     },
     "metadata": {
      "needs_background": "light"
     },
     "output_type": "display_data"
    }
   ],
   "source": [
    "APfig = plt.figure(figsize=(15,10)) #Q2.b\n",
    "plt.bar(APDaily_Change.index, APDaily_Change.values, width=1.5)\n",
    "plt.xlabel(\"Date\")\n",
    "\n",
    "APticks_to_use = np.arange(0,len(APDaily_Change),20)\n",
    "APlabels = [APDaily_Change.index[i] for i in APticks_to_use]\n",
    "plt.xticks(APlabels, rotation=65)\n",
    "\n",
    "plt.ylabel(\"Daily Percent Change\")\n",
    "plt.title(\"Apple Percentage Change Bar Graph\")\n",
    "plt.show()"
   ]
  },
  {
   "cell_type": "code",
   "execution_count": 25,
   "id": "11486105",
   "metadata": {},
   "outputs": [
    {
     "name": "stdout",
     "output_type": "stream",
     "text": [
      "Apple Percentage Change Statistics\n",
      "\n",
      "Mean: 0.0026703808876301595\n",
      "Standard Deviation: 0.016497711981065335\n",
      "Variance: 0.0002721745006101867\n",
      "Minimum: -0.09966084007304987\n",
      "Maximum: 0.06846030900372946\n"
     ]
    }
   ],
   "source": [
    "APmean=APDaily_Change.mean() #Q2.c\n",
    "APstd=APDaily_Change.std()\n",
    "APvar=APstd**2\n",
    "APmin=APDaily_Change.min()\n",
    "APmax=APDaily_Change.max()\n",
    "\n",
    "print(\"Apple Percentage Change Statistics\\n\")\n",
    "print(\"Mean:\",APmean)\n",
    "print(\"Standard Deviation:\",APstd)\n",
    "print(\"Variance:\",APvar)\n",
    "print(\"Minimum:\",APmin)\n",
    "print(\"Maximum:\",APmax)"
   ]
  },
  {
   "cell_type": "markdown",
   "id": "0ba934a9",
   "metadata": {},
   "source": [
    "### Spotify Technology S.A. (SPOT)"
   ]
  },
  {
   "cell_type": "code",
   "execution_count": 26,
   "id": "0a544265",
   "metadata": {},
   "outputs": [
    {
     "data": {
      "text/plain": [
       "Date\n",
       "2019-01-03   -0.041498\n",
       "2019-01-04    0.087048\n",
       "2019-01-07    0.007172\n",
       "2019-01-08   -0.015751\n",
       "2019-01-09    0.044348\n",
       "                ...   \n",
       "2019-12-24    0.009307\n",
       "2019-12-26    0.004611\n",
       "2019-12-27    0.004262\n",
       "2019-12-30   -0.021936\n",
       "2019-12-31   -0.001736\n",
       "Name: Spotify Percentage Change, Length: 251, dtype: float64"
      ]
     },
     "execution_count": 26,
     "metadata": {},
     "output_type": "execute_result"
    }
   ],
   "source": [
    "SPOTDaily_Change=Spotify.pct_change() #Q2.a\n",
    "SPOTDaily_Change.name=\"Spotify Percentage Change\"\n",
    "SPOTDaily_Change=SPOTDaily_Change.drop(pd.Timestamp(\"2019-01-02\")) #Must Include this step to remove the NaN value\n",
    "SPOTDaily_Change"
   ]
  },
  {
   "cell_type": "code",
   "execution_count": 27,
   "id": "c968a97d",
   "metadata": {},
   "outputs": [
    {
     "name": "stdout",
     "output_type": "stream",
     "text": [
      "First Five Rows of Spotify Percentage Change:\n",
      "Date\n",
      "2019-01-03   -0.041498\n",
      "2019-01-04    0.087048\n",
      "2019-01-07    0.007172\n",
      "2019-01-08   -0.015751\n",
      "2019-01-09    0.044348\n",
      "Name: Spotify Percentage Change, dtype: float64\n",
      "\n",
      "Total Count of SpotifyPercentage Change: 251\n"
     ]
    }
   ],
   "source": [
    "print(\"First Five Rows of Spotify Percentage Change:\", SPOTDaily_Change.head(), sep='\\n')\n",
    "print(\"\")\n",
    "print(\"Total Count of SpotifyPercentage Change:\", SPOTDaily_Change.count())"
   ]
  },
  {
   "cell_type": "code",
   "execution_count": 28,
   "id": "951d880d",
   "metadata": {},
   "outputs": [
    {
     "data": {
      "image/png": "[encoded data removed]",
      "text/plain": [
       "<Figure size 1080x720 with 1 Axes>"
      ]
     },
     "metadata": {
      "needs_background": "light"
     },
     "output_type": "display_data"
    }
   ],
   "source": [
    "SPOTfig = plt.figure(figsize=(15,10)) #Q2.b\n",
    "plt.bar(SPOTDaily_Change.index, SPOTDaily_Change.values, width=1.5)\n",
    "plt.xlabel(\"Date\")\n",
    "\n",
    "SPOTticks_to_use = np.arange(0,len(SPOTDaily_Change),20)\n",
    "SPOTlabels = [SPOTDaily_Change.index[i] for i in SPOTticks_to_use]\n",
    "plt.xticks(SPOTlabels, rotation=65)\n",
    "\n",
    "plt.ylabel(\"Daily Percent Change\")\n",
    "plt.title(\"Spotify Percentage Change Bar Graph\")\n",
    "plt.show()"
   ]
  },
  {
   "cell_type": "code",
   "execution_count": 29,
   "id": "a90c3e69",
   "metadata": {},
   "outputs": [
    {
     "name": "stdout",
     "output_type": "stream",
     "text": [
      "Spotify Percentage Change Statistics\n",
      "\n",
      "Mean: 0.001346566378987911\n",
      "Standard Deviation: 0.022884986790260953\n",
      "Variance: 0.0005237226203904183\n",
      "Minimum: -0.049149210223035755\n",
      "Maximum: 0.16165382384621751\n"
     ]
    }
   ],
   "source": [
    "SPOTmean=SPOTDaily_Change.mean() #Q2.c\n",
    "SPOTstd=SPOTDaily_Change.std()\n",
    "SPOTvar=SPOTstd**2\n",
    "SPOTmin=SPOTDaily_Change.min()\n",
    "SPOTmax=SPOTDaily_Change.max()\n",
    "\n",
    "print(\"Spotify Percentage Change Statistics\\n\")\n",
    "print(\"Mean:\",SPOTmean)\n",
    "print(\"Standard Deviation:\",SPOTstd)\n",
    "print(\"Variance:\",SPOTvar)\n",
    "print(\"Minimum:\",SPOTmin)\n",
    "print(\"Maximum:\",SPOTmax)"
   ]
  },
  {
   "cell_type": "markdown",
   "id": "3060e24f",
   "metadata": {},
   "source": [
    "### Tesla Inc. (TSLA)"
   ]
  },
  {
   "cell_type": "code",
   "execution_count": 30,
   "id": "8e14fdee",
   "metadata": {},
   "outputs": [
    {
     "data": {
      "text/plain": [
       "Date\n",
       "2019-01-03   -0.031472\n",
       "2019-01-04    0.057697\n",
       "2019-01-07    0.054361\n",
       "2019-01-08    0.001164\n",
       "2019-01-09    0.009483\n",
       "                ...   \n",
       "2019-12-24    0.014384\n",
       "2019-12-26    0.013380\n",
       "2019-12-27   -0.001299\n",
       "2019-12-30   -0.036433\n",
       "2019-12-31    0.008753\n",
       "Name: Tesla Percentage Change, Length: 251, dtype: float64"
      ]
     },
     "execution_count": 30,
     "metadata": {},
     "output_type": "execute_result"
    }
   ],
   "source": [
    "TSLADaily_Change=Tesla.pct_change() #Q2.a\n",
    "TSLADaily_Change.name=\"Tesla Percentage Change\"\n",
    "TSLADaily_Change=TSLADaily_Change.drop(pd.Timestamp(\"2019-01-02\")) #Must Include this step to remove the NaN value\n",
    "TSLADaily_Change"
   ]
  },
  {
   "cell_type": "code",
   "execution_count": 31,
   "id": "82712baa",
   "metadata": {},
   "outputs": [
    {
     "name": "stdout",
     "output_type": "stream",
     "text": [
      "First Five Rows of Tesla Percentage Change:\n",
      "Date\n",
      "2019-01-03   -0.031472\n",
      "2019-01-04    0.057697\n",
      "2019-01-07    0.054361\n",
      "2019-01-08    0.001164\n",
      "2019-01-09    0.009483\n",
      "Name: Tesla Percentage Change, dtype: float64\n",
      "\n",
      "Total Count of Tesla Percentage Change: 251\n"
     ]
    }
   ],
   "source": [
    "print(\"First Five Rows of Tesla Percentage Change:\", TSLADaily_Change.head(), sep='\\n')\n",
    "print(\"\")\n",
    "print(\"Total Count of Tesla Percentage Change:\", TSLADaily_Change.count())"
   ]
  },
  {
   "cell_type": "code",
   "execution_count": 32,
   "id": "8f96888f",
   "metadata": {},
   "outputs": [
    {
     "data": {
      "image/png": "[encoded data removed]",
      "text/plain": [
       "<Figure size 1080x720 with 1 Axes>"
      ]
     },
     "metadata": {
      "needs_background": "light"
     },
     "output_type": "display_data"
    }
   ],
   "source": [
    "TSLAfig = plt.figure(figsize=(15,10)) #Q2.b\n",
    "plt.bar(TSLADaily_Change.index, TSLADaily_Change.values, width=1.5)\n",
    "plt.xlabel(\"Date\")\n",
    "\n",
    "TSLAticks_to_use = np.arange(0,len(TSLADaily_Change),20)\n",
    "TSLAlabels = [TSLADaily_Change.index[i] for i in TSLAticks_to_use]\n",
    "plt.xticks(TSLAlabels, rotation=65)\n",
    "\n",
    "plt.ylabel(\"Daily Percentage Change\")\n",
    "plt.title(\"Tesla Percentage Change Bar Graph\")\n",
    "plt.show()"
   ]
  },
  {
   "cell_type": "code",
   "execution_count": 33,
   "id": "59fd057c",
   "metadata": {},
   "outputs": [
    {
     "name": "stdout",
     "output_type": "stream",
     "text": [
      "Tesla Percentage Change Statistics\n",
      "\n",
      "Mean: 0.0016677546713653455\n",
      "Standard Deviation: 0.030817211700881697\n",
      "Variance: 0.0009497005370169598\n",
      "Minimum: -0.13613711869525824\n",
      "Maximum: 0.17669231977383393\n"
     ]
    }
   ],
   "source": [
    "TSLAmean=TSLADaily_Change.mean() #Q2.c\n",
    "TSLAstd=TSLADaily_Change.std()\n",
    "TSLAvar=TSLAstd**2\n",
    "TSLAmin=TSLADaily_Change.min()\n",
    "TSLAmax=TSLADaily_Change.max()\n",
    "\n",
    "print(\"Tesla Percentage Change Statistics\\n\")\n",
    "print(\"Mean:\",TSLAmean)\n",
    "print(\"Standard Deviation:\",TSLAstd)\n",
    "print(\"Variance:\",TSLAvar)\n",
    "print(\"Minimum:\",TSLAmin)\n",
    "print(\"Maximum:\",TSLAmax)"
   ]
  },
  {
   "cell_type": "markdown",
   "id": "937fd0df",
   "metadata": {},
   "source": [
    "### S&P 500 (^GSPC)"
   ]
  },
  {
   "cell_type": "code",
   "execution_count": 34,
   "id": "c72a5138",
   "metadata": {},
   "outputs": [
    {
     "data": {
      "text/plain": [
       "Date\n",
       "2019-01-03   -0.024757\n",
       "2019-01-04    0.034336\n",
       "2019-01-07    0.007010\n",
       "2019-01-08    0.009695\n",
       "2019-01-09    0.004098\n",
       "                ...   \n",
       "2019-12-24   -0.000195\n",
       "2019-12-26    0.005128\n",
       "2019-12-27    0.000034\n",
       "2019-12-30   -0.005781\n",
       "2019-12-31    0.002946\n",
       "Name: S&P 500 Percentage Change, Length: 251, dtype: float64"
      ]
     },
     "execution_count": 34,
     "metadata": {},
     "output_type": "execute_result"
    }
   ],
   "source": [
    "SPDaily_Change=SP500.pct_change() #Q2.a\n",
    "SPDaily_Change.name=\"S&P 500 Percentage Change\"\n",
    "SPDaily_Change=SPDaily_Change.drop(pd.Timestamp(\"2019-01-02\")) #Must Include this step to remove the NaN value\n",
    "SPDaily_Change"
   ]
  },
  {
   "cell_type": "code",
   "execution_count": 35,
   "id": "7a2e8e5d",
   "metadata": {},
   "outputs": [
    {
     "name": "stdout",
     "output_type": "stream",
     "text": [
      "First Five Rows of S&P 500 Percentage Change:\n",
      "Date\n",
      "2019-01-03   -0.024757\n",
      "2019-01-04    0.034336\n",
      "2019-01-07    0.007010\n",
      "2019-01-08    0.009695\n",
      "2019-01-09    0.004098\n",
      "Name: S&P 500 Percentage Change, dtype: float64\n",
      "\n",
      "Total Count of S&P 500 Percentage Change: 251\n"
     ]
    }
   ],
   "source": [
    "print(\"First Five Rows of S&P 500 Percentage Change:\", SPDaily_Change.head(), sep='\\n')\n",
    "print(\"\")\n",
    "print(\"Total Count of S&P 500 Percentage Change:\", SPDaily_Change.count())"
   ]
  },
  {
   "cell_type": "code",
   "execution_count": 36,
   "id": "c1903a64",
   "metadata": {},
   "outputs": [
    {
     "data": {
      "image/png": "[encoded data removed]",
      "text/plain": [
       "<Figure size 1080x720 with 1 Axes>"
      ]
     },
     "metadata": {
      "needs_background": "light"
     },
     "output_type": "display_data"
    }
   ],
   "source": [
    "fig = plt.figure(figsize=(15,10)) #Q2.b\n",
    "plt.bar(SPDaily_Change.index, SPDaily_Change.values, width = 1.5) \n",
    "plt.xlabel(\"Date\")\n",
    "\n",
    "SPticks_to_use = np.arange(0,len(SPDaily_Change),20)\n",
    "SPlabels = [SPDaily_Change.index[i] for i in SPticks_to_use]\n",
    "plt.xticks(SPlabels, rotation=65)\n",
    "\n",
    "plt.ylabel(\"Daily Percentage Change\")\n",
    "plt.title(\"S&P 500 Percentage Change Bar Graph\")\n",
    "plt.show()"
   ]
  },
  {
   "cell_type": "code",
   "execution_count": 37,
   "id": "681587de",
   "metadata": {},
   "outputs": [
    {
     "name": "stdout",
     "output_type": "stream",
     "text": [
      "S&P 500 Percentage Change Statistics\n",
      "\n",
      "Mean: 0.0010371290183399037\n",
      "Standard Deviation: 0.007872345885964522\n",
      "Variance: 6.197382974826253e-05\n",
      "Minimum: -0.02977780051499812\n",
      "Maximum: 0.0343356931888279\n"
     ]
    }
   ],
   "source": [
    "SPmean=SPDaily_Change.mean() #Q2.c\n",
    "SPstd=SPDaily_Change.std()\n",
    "SPvar=SPstd**2\n",
    "SPmin=SPDaily_Change.min()\n",
    "SPmax=SPDaily_Change.max()\n",
    "\n",
    "print(\"S&P 500 Percentage Change Statistics\\n\")\n",
    "print(\"Mean:\",SPmean)\n",
    "print(\"Standard Deviation:\",SPstd)\n",
    "print(\"Variance:\",SPvar)\n",
    "print(\"Minimum:\",SPmin)\n",
    "print(\"Maximum:\",SPmax)"
   ]
  },
  {
   "cell_type": "markdown",
   "id": "c12f5d03",
   "metadata": {},
   "source": [
    "# Part Three: Regression Analysis"
   ]
  },
  {
   "cell_type": "markdown",
   "id": "0b07467f",
   "metadata": {},
   "source": [
    "### Nvidia Corporation (NVDA)"
   ]
  },
  {
   "cell_type": "code",
   "execution_count": 38,
   "id": "37f7e52f",
   "metadata": {},
   "outputs": [
    {
     "data": {
      "text/html": [
       "<div>\n",
       "<style scoped>\n",
       "    .dataframe tbody tr th:only-of-type {\n",
       "        vertical-align: middle;\n",
       "    }\n",
       "\n",
       "    .dataframe tbody tr th {\n",
       "        vertical-align: top;\n",
       "    }\n",
       "\n",
       "    .dataframe thead th {\n",
       "        text-align: right;\n",
       "    }\n",
       "</style>\n",
       "<table border=\"1\" class=\"dataframe\">\n",
       "  <thead>\n",
       "    <tr style=\"text-align: right;\">\n",
       "      <th></th>\n",
       "      <th>Nvidia Percentage Change</th>\n",
       "      <th>S&amp;P 500 Percentage Change</th>\n",
       "    </tr>\n",
       "    <tr>\n",
       "      <th>Date</th>\n",
       "      <th></th>\n",
       "      <th></th>\n",
       "    </tr>\n",
       "  </thead>\n",
       "  <tbody>\n",
       "    <tr>\n",
       "      <th>2019-01-03</th>\n",
       "      <td>-0.060579</td>\n",
       "      <td>-0.024757</td>\n",
       "    </tr>\n",
       "    <tr>\n",
       "      <th>2019-01-04</th>\n",
       "      <td>0.064171</td>\n",
       "      <td>0.034336</td>\n",
       "    </tr>\n",
       "    <tr>\n",
       "      <th>2019-01-07</th>\n",
       "      <td>0.052912</td>\n",
       "      <td>0.007010</td>\n",
       "    </tr>\n",
       "    <tr>\n",
       "      <th>2019-01-08</th>\n",
       "      <td>-0.024986</td>\n",
       "      <td>0.009695</td>\n",
       "    </tr>\n",
       "    <tr>\n",
       "      <th>2019-01-09</th>\n",
       "      <td>0.019868</td>\n",
       "      <td>0.004098</td>\n",
       "    </tr>\n",
       "    <tr>\n",
       "      <th>...</th>\n",
       "      <td>...</td>\n",
       "      <td>...</td>\n",
       "    </tr>\n",
       "    <tr>\n",
       "      <th>2019-12-24</th>\n",
       "      <td>-0.000840</td>\n",
       "      <td>-0.000195</td>\n",
       "    </tr>\n",
       "    <tr>\n",
       "      <th>2019-12-26</th>\n",
       "      <td>0.002521</td>\n",
       "      <td>0.005128</td>\n",
       "    </tr>\n",
       "    <tr>\n",
       "      <th>2019-12-27</th>\n",
       "      <td>-0.009723</td>\n",
       "      <td>0.000034</td>\n",
       "    </tr>\n",
       "    <tr>\n",
       "      <th>2019-12-30</th>\n",
       "      <td>-0.019299</td>\n",
       "      <td>-0.005781</td>\n",
       "    </tr>\n",
       "    <tr>\n",
       "      <th>2019-12-31</th>\n",
       "      <td>0.012947</td>\n",
       "      <td>0.002946</td>\n",
       "    </tr>\n",
       "  </tbody>\n",
       "</table>\n",
       "<p>251 rows × 2 columns</p>\n",
       "</div>"
      ],
      "text/plain": [
       "            Nvidia Percentage Change  S&P 500 Percentage Change\n",
       "Date                                                           \n",
       "2019-01-03                 -0.060579                  -0.024757\n",
       "2019-01-04                  0.064171                   0.034336\n",
       "2019-01-07                  0.052912                   0.007010\n",
       "2019-01-08                 -0.024986                   0.009695\n",
       "2019-01-09                  0.019868                   0.004098\n",
       "...                              ...                        ...\n",
       "2019-12-24                 -0.000840                  -0.000195\n",
       "2019-12-26                  0.002521                   0.005128\n",
       "2019-12-27                 -0.009723                   0.000034\n",
       "2019-12-30                 -0.019299                  -0.005781\n",
       "2019-12-31                  0.012947                   0.002946\n",
       "\n",
       "[251 rows x 2 columns]"
      ]
     },
     "execution_count": 38,
     "metadata": {},
     "output_type": "execute_result"
    }
   ],
   "source": [
    "ND_DataFrame=pd.DataFrame(NDDaily_Change) #Q3.a & Q3.b\n",
    "ND_DataFrame[\"S&P 500 Percentage Change\"]=SPDaily_Change.values\n",
    "ND_DataFrame"
   ]
  },
  {
   "cell_type": "code",
   "execution_count": 39,
   "id": "6ca70a5b",
   "metadata": {},
   "outputs": [],
   "source": [
    "X = ND_DataFrame[\"Nvidia Percentage Change\"].values.reshape(-1, 1) #values.reshape converts it into a NumPy array\n",
    "Y = ND_DataFrame[\"S&P 500 Percentage Change\"].values.reshape(-1, 1) #-1 means calculate the dimension of rows, but have 1 column\n",
    "ND_LR = LinearRegression()  #Creates an object for the class\n",
    "ND_LR.fit(X, Y) #Performs the linear regression\n",
    "Y_pred = ND_LR.predict(X) #Makes predictions"
   ]
  },
  {
   "cell_type": "code",
   "execution_count": 40,
   "id": "9eaafa59",
   "metadata": {},
   "outputs": [
    {
     "data": {
      "image/png": "[encoded data removed]",
      "text/plain": [
       "<Figure size 432x288 with 1 Axes>"
      ]
     },
     "metadata": {
      "needs_background": "light"
     },
     "output_type": "display_data"
    }
   ],
   "source": [
    "plt.scatter(X,Y)\n",
    "plt.plot(X,Y_pred,color='red')\n",
    "plt.title(\"Nvidia vs S&P 500 (Daily Percentage Change)\")\n",
    "plt.xlabel(\"Nvidia\")\n",
    "plt.ylabel(\"S&P 500\")\n",
    "plt.show()"
   ]
  },
  {
   "cell_type": "code",
   "execution_count": 41,
   "id": "6b92ecc6",
   "metadata": {},
   "outputs": [
    {
     "name": "stdout",
     "output_type": "stream",
     "text": [
      "Nvidia Regression Statistics\n",
      "\n",
      "Intercept: [0.00049293]\n",
      "Coefficient(Slope): [[0.21556903]]\n",
      "R-Squared: 0.49221601189259634\n",
      "MSE: 3.134394265723308e-05\n"
     ]
    }
   ],
   "source": [
    "ND_r2 = metrics.r2_score(Y,Y_pred) #Q3.c\n",
    "ND_mse = metrics.mean_squared_error(Y,Y_pred)\n",
    "\n",
    "print(\"Nvidia Regression Statistics\\n\")\n",
    "print('Intercept:',ND_LR.intercept_) #Intercept\n",
    "print('Coefficient(Slope):',ND_LR.coef_) #Slope (Coefficient of X)\n",
    "print(\"R-Squared:\",ND_r2) #R-Squared\n",
    "print(\"MSE:\",ND_mse) #Mean Squared Error"
   ]
  },
  {
   "cell_type": "markdown",
   "id": "d16ed001",
   "metadata": {},
   "source": [
    "### Johnson & Johnson (JNJ)"
   ]
  },
  {
   "cell_type": "code",
   "execution_count": 42,
   "id": "4faaa4ba",
   "metadata": {
    "scrolled": false
   },
   "outputs": [
    {
     "data": {
      "text/html": [
       "<div>\n",
       "<style scoped>\n",
       "    .dataframe tbody tr th:only-of-type {\n",
       "        vertical-align: middle;\n",
       "    }\n",
       "\n",
       "    .dataframe tbody tr th {\n",
       "        vertical-align: top;\n",
       "    }\n",
       "\n",
       "    .dataframe thead th {\n",
       "        text-align: right;\n",
       "    }\n",
       "</style>\n",
       "<table border=\"1\" class=\"dataframe\">\n",
       "  <thead>\n",
       "    <tr style=\"text-align: right;\">\n",
       "      <th></th>\n",
       "      <th>Johnson &amp; Johnson Percentage Change</th>\n",
       "      <th>S&amp;P 500 Percentage Change</th>\n",
       "    </tr>\n",
       "    <tr>\n",
       "      <th>Date</th>\n",
       "      <th></th>\n",
       "      <th></th>\n",
       "    </tr>\n",
       "  </thead>\n",
       "  <tbody>\n",
       "    <tr>\n",
       "      <th>2019-01-03</th>\n",
       "      <td>-0.015934</td>\n",
       "      <td>-0.024757</td>\n",
       "    </tr>\n",
       "    <tr>\n",
       "      <th>2019-01-04</th>\n",
       "      <td>0.016794</td>\n",
       "      <td>0.034336</td>\n",
       "    </tr>\n",
       "    <tr>\n",
       "      <th>2019-01-07</th>\n",
       "      <td>-0.006437</td>\n",
       "      <td>0.007010</td>\n",
       "    </tr>\n",
       "    <tr>\n",
       "      <th>2019-01-08</th>\n",
       "      <td>0.023274</td>\n",
       "      <td>0.009695</td>\n",
       "    </tr>\n",
       "    <tr>\n",
       "      <th>2019-01-09</th>\n",
       "      <td>-0.007915</td>\n",
       "      <td>0.004098</td>\n",
       "    </tr>\n",
       "    <tr>\n",
       "      <th>...</th>\n",
       "      <td>...</td>\n",
       "      <td>...</td>\n",
       "    </tr>\n",
       "    <tr>\n",
       "      <th>2019-12-24</th>\n",
       "      <td>-0.003452</td>\n",
       "      <td>-0.000195</td>\n",
       "    </tr>\n",
       "    <tr>\n",
       "      <th>2019-12-26</th>\n",
       "      <td>-0.000722</td>\n",
       "      <td>0.005128</td>\n",
       "    </tr>\n",
       "    <tr>\n",
       "      <th>2019-12-27</th>\n",
       "      <td>-0.000578</td>\n",
       "      <td>0.000034</td>\n",
       "    </tr>\n",
       "    <tr>\n",
       "      <th>2019-12-30</th>\n",
       "      <td>-0.003035</td>\n",
       "      <td>-0.005781</td>\n",
       "    </tr>\n",
       "    <tr>\n",
       "      <th>2019-12-31</th>\n",
       "      <td>0.003914</td>\n",
       "      <td>0.002946</td>\n",
       "    </tr>\n",
       "  </tbody>\n",
       "</table>\n",
       "<p>251 rows × 2 columns</p>\n",
       "</div>"
      ],
      "text/plain": [
       "            Johnson & Johnson Percentage Change  S&P 500 Percentage Change\n",
       "Date                                                                      \n",
       "2019-01-03                            -0.015934                  -0.024757\n",
       "2019-01-04                             0.016794                   0.034336\n",
       "2019-01-07                            -0.006437                   0.007010\n",
       "2019-01-08                             0.023274                   0.009695\n",
       "2019-01-09                            -0.007915                   0.004098\n",
       "...                                         ...                        ...\n",
       "2019-12-24                            -0.003452                  -0.000195\n",
       "2019-12-26                            -0.000722                   0.005128\n",
       "2019-12-27                            -0.000578                   0.000034\n",
       "2019-12-30                            -0.003035                  -0.005781\n",
       "2019-12-31                             0.003914                   0.002946\n",
       "\n",
       "[251 rows x 2 columns]"
      ]
     },
     "execution_count": 42,
     "metadata": {},
     "output_type": "execute_result"
    }
   ],
   "source": [
    "JNJ_DataFrame=pd.DataFrame(JNJDaily_Change) #Q3.a & Q3.b\n",
    "JNJ_DataFrame[\"S&P 500 Percentage Change\"]=SPDaily_Change.values\n",
    "JNJ_DataFrame"
   ]
  },
  {
   "cell_type": "code",
   "execution_count": 43,
   "id": "9c15177c",
   "metadata": {},
   "outputs": [],
   "source": [
    "X2 = JNJ_DataFrame[\"Johnson & Johnson Percentage Change\"].values.reshape(-1, 1)\n",
    "Y2 = JNJ_DataFrame[\"S&P 500 Percentage Change\"].values.reshape(-1, 1)\n",
    "JNJ_LR = LinearRegression()\n",
    "JNJ_LR.fit(X2,Y2)\n",
    "Y2_pred = JNJ_LR.predict(X2)"
   ]
  },
  {
   "cell_type": "code",
   "execution_count": 44,
   "id": "0038a0d8",
   "metadata": {
    "scrolled": true
   },
   "outputs": [
    {
     "data": {
      "image/png": "[encoded data removed]",
      "text/plain": [
       "<Figure size 432x288 with 1 Axes>"
      ]
     },
     "metadata": {
      "needs_background": "light"
     },
     "output_type": "display_data"
    }
   ],
   "source": [
    "plt.scatter(X2,Y2)\n",
    "plt.plot(X2,Y2_pred,color='red')\n",
    "plt.title(\"Johnson & Johnson vs S&P 500 (Daily Percentage Change)\")\n",
    "plt.xlabel(\"Johnson & Johnson\")\n",
    "plt.ylabel(\"S&P 500\")\n",
    "plt.show()"
   ]
  },
  {
   "cell_type": "code",
   "execution_count": 45,
   "id": "79190e35",
   "metadata": {},
   "outputs": [
    {
     "name": "stdout",
     "output_type": "stream",
     "text": [
      "Johnson & Johnson Regression Statistics\n",
      "\n",
      "Intercept: [0.00082113]\n",
      "Coefficient(Slope): [[0.31155676]]\n",
      "R-Squared: 0.1683351702924717\n",
      "MSE: 5.133611012341845e-05\n"
     ]
    }
   ],
   "source": [
    "JNJ_r2 = metrics.r2_score(Y2,Y2_pred) #Q3.c\n",
    "JNJ_mse = metrics.mean_squared_error(Y2,Y2_pred)\n",
    "\n",
    "print(\"Johnson & Johnson Regression Statistics\\n\")\n",
    "print('Intercept:',JNJ_LR.intercept_) #Intercept\n",
    "print('Coefficient(Slope):',JNJ_LR.coef_) #Slope (Coefficient of X)\n",
    "print(\"R-Squared:\",JNJ_r2) #R-Squared\n",
    "print(\"MSE:\",JNJ_mse) #Mean Squared Error"
   ]
  },
  {
   "cell_type": "markdown",
   "id": "4657c141",
   "metadata": {},
   "source": [
    "### Apple Inc. (AAPL)"
   ]
  },
  {
   "cell_type": "code",
   "execution_count": 46,
   "id": "0dc14fa3",
   "metadata": {},
   "outputs": [
    {
     "data": {
      "text/html": [
       "<div>\n",
       "<style scoped>\n",
       "    .dataframe tbody tr th:only-of-type {\n",
       "        vertical-align: middle;\n",
       "    }\n",
       "\n",
       "    .dataframe tbody tr th {\n",
       "        vertical-align: top;\n",
       "    }\n",
       "\n",
       "    .dataframe thead th {\n",
       "        text-align: right;\n",
       "    }\n",
       "</style>\n",
       "<table border=\"1\" class=\"dataframe\">\n",
       "  <thead>\n",
       "    <tr style=\"text-align: right;\">\n",
       "      <th></th>\n",
       "      <th>Apple Percentage Change</th>\n",
       "      <th>S&amp;P 500 Percentage Change</th>\n",
       "    </tr>\n",
       "    <tr>\n",
       "      <th>Date</th>\n",
       "      <th></th>\n",
       "      <th></th>\n",
       "    </tr>\n",
       "  </thead>\n",
       "  <tbody>\n",
       "    <tr>\n",
       "      <th>2019-01-03</th>\n",
       "      <td>-0.099661</td>\n",
       "      <td>-0.024757</td>\n",
       "    </tr>\n",
       "    <tr>\n",
       "      <th>2019-01-04</th>\n",
       "      <td>0.042596</td>\n",
       "      <td>0.034336</td>\n",
       "    </tr>\n",
       "    <tr>\n",
       "      <th>2019-01-07</th>\n",
       "      <td>-0.002223</td>\n",
       "      <td>0.007010</td>\n",
       "    </tr>\n",
       "    <tr>\n",
       "      <th>2019-01-08</th>\n",
       "      <td>0.019220</td>\n",
       "      <td>0.009695</td>\n",
       "    </tr>\n",
       "    <tr>\n",
       "      <th>2019-01-09</th>\n",
       "      <td>0.016945</td>\n",
       "      <td>0.004098</td>\n",
       "    </tr>\n",
       "    <tr>\n",
       "      <th>...</th>\n",
       "      <td>...</td>\n",
       "      <td>...</td>\n",
       "    </tr>\n",
       "    <tr>\n",
       "      <th>2019-12-24</th>\n",
       "      <td>0.001001</td>\n",
       "      <td>-0.000195</td>\n",
       "    </tr>\n",
       "    <tr>\n",
       "      <th>2019-12-26</th>\n",
       "      <td>0.019849</td>\n",
       "      <td>0.005128</td>\n",
       "    </tr>\n",
       "    <tr>\n",
       "      <th>2019-12-27</th>\n",
       "      <td>-0.000420</td>\n",
       "      <td>0.000034</td>\n",
       "    </tr>\n",
       "    <tr>\n",
       "      <th>2019-12-30</th>\n",
       "      <td>0.005883</td>\n",
       "      <td>-0.005781</td>\n",
       "    </tr>\n",
       "    <tr>\n",
       "      <th>2019-12-31</th>\n",
       "      <td>0.007381</td>\n",
       "      <td>0.002946</td>\n",
       "    </tr>\n",
       "  </tbody>\n",
       "</table>\n",
       "<p>251 rows × 2 columns</p>\n",
       "</div>"
      ],
      "text/plain": [
       "            Apple Percentage Change  S&P 500 Percentage Change\n",
       "Date                                                          \n",
       "2019-01-03                -0.099661                  -0.024757\n",
       "2019-01-04                 0.042596                   0.034336\n",
       "2019-01-07                -0.002223                   0.007010\n",
       "2019-01-08                 0.019220                   0.009695\n",
       "2019-01-09                 0.016945                   0.004098\n",
       "...                             ...                        ...\n",
       "2019-12-24                 0.001001                  -0.000195\n",
       "2019-12-26                 0.019849                   0.005128\n",
       "2019-12-27                -0.000420                   0.000034\n",
       "2019-12-30                 0.005883                  -0.005781\n",
       "2019-12-31                 0.007381                   0.002946\n",
       "\n",
       "[251 rows x 2 columns]"
      ]
     },
     "execution_count": 46,
     "metadata": {},
     "output_type": "execute_result"
    }
   ],
   "source": [
    "AP_DataFrame=pd.DataFrame(APDaily_Change)\n",
    "AP_DataFrame[\"S&P 500 Percentage Change\"]=SPDaily_Change.values\n",
    "AP_DataFrame"
   ]
  },
  {
   "cell_type": "code",
   "execution_count": 47,
   "id": "fd0b3aa1",
   "metadata": {},
   "outputs": [],
   "source": [
    "X3 = AP_DataFrame[\"Apple Percentage Change\"].values.reshape(-1, 1) \n",
    "Y3 = AP_DataFrame[\"S&P 500 Percentage Change\"].values.reshape(-1, 1)\n",
    "AP_LR = LinearRegression()\n",
    "AP_LR.fit(X3,Y3)\n",
    "Y3_pred = AP_LR.predict(X3)"
   ]
  },
  {
   "cell_type": "code",
   "execution_count": 48,
   "id": "d69f61b2",
   "metadata": {},
   "outputs": [
    {
     "data": {
      "image/png": "[encoded data removed]",
      "text/plain": [
       "<Figure size 432x288 with 1 Axes>"
      ]
     },
     "metadata": {
      "needs_background": "light"
     },
     "output_type": "display_data"
    }
   ],
   "source": [
    "plt.scatter(X3,Y3)\n",
    "plt.plot(X3,Y3_pred,color='red')\n",
    "plt.title(\"Apple vs S&P 500 (Daily Percentage Change)\")\n",
    "plt.xlabel(\"Apple\")\n",
    "plt.ylabel(\"S&P 500\")\n",
    "plt.show()"
   ]
  },
  {
   "cell_type": "code",
   "execution_count": 49,
   "id": "5fe36be2",
   "metadata": {},
   "outputs": [
    {
     "name": "stdout",
     "output_type": "stream",
     "text": [
      "Apple Regression Statistics\n",
      "\n",
      "Intercept: [9.06577949e-05]\n",
      "Coefficient(Slope): [[0.35443304]]\n",
      "R-Squared: 0.551705744931714\n",
      "MSE: 2.767182454255592e-05\n"
     ]
    }
   ],
   "source": [
    "AP_r2 = metrics.r2_score(Y3,Y3_pred) #Q3.c\n",
    "AP_mse = metrics.mean_squared_error(Y3,Y3_pred)\n",
    "\n",
    "print(\"Apple Regression Statistics\\n\")\n",
    "print('Intercept:',AP_LR.intercept_) #Intercept\n",
    "print('Coefficient(Slope):',AP_LR.coef_) #Slope (Coefficient of X)\n",
    "print(\"R-Squared:\",AP_r2) #R-Squared\n",
    "print(\"MSE:\",AP_mse) #Mean Squared Error"
   ]
  },
  {
   "cell_type": "markdown",
   "id": "1424ebc5",
   "metadata": {},
   "source": [
    "### Spotify Technology S.A. (SPOT)"
   ]
  },
  {
   "cell_type": "code",
   "execution_count": 50,
   "id": "b2a4474f",
   "metadata": {},
   "outputs": [
    {
     "data": {
      "text/html": [
       "<div>\n",
       "<style scoped>\n",
       "    .dataframe tbody tr th:only-of-type {\n",
       "        vertical-align: middle;\n",
       "    }\n",
       "\n",
       "    .dataframe tbody tr th {\n",
       "        vertical-align: top;\n",
       "    }\n",
       "\n",
       "    .dataframe thead th {\n",
       "        text-align: right;\n",
       "    }\n",
       "</style>\n",
       "<table border=\"1\" class=\"dataframe\">\n",
       "  <thead>\n",
       "    <tr style=\"text-align: right;\">\n",
       "      <th></th>\n",
       "      <th>Spotify Percentage Change</th>\n",
       "      <th>S&amp;P 500 Percentage Change</th>\n",
       "    </tr>\n",
       "    <tr>\n",
       "      <th>Date</th>\n",
       "      <th></th>\n",
       "      <th></th>\n",
       "    </tr>\n",
       "  </thead>\n",
       "  <tbody>\n",
       "    <tr>\n",
       "      <th>2019-01-03</th>\n",
       "      <td>-0.041498</td>\n",
       "      <td>-0.024757</td>\n",
       "    </tr>\n",
       "    <tr>\n",
       "      <th>2019-01-04</th>\n",
       "      <td>0.087048</td>\n",
       "      <td>0.034336</td>\n",
       "    </tr>\n",
       "    <tr>\n",
       "      <th>2019-01-07</th>\n",
       "      <td>0.007172</td>\n",
       "      <td>0.007010</td>\n",
       "    </tr>\n",
       "    <tr>\n",
       "      <th>2019-01-08</th>\n",
       "      <td>-0.015751</td>\n",
       "      <td>0.009695</td>\n",
       "    </tr>\n",
       "    <tr>\n",
       "      <th>2019-01-09</th>\n",
       "      <td>0.044348</td>\n",
       "      <td>0.004098</td>\n",
       "    </tr>\n",
       "    <tr>\n",
       "      <th>...</th>\n",
       "      <td>...</td>\n",
       "      <td>...</td>\n",
       "    </tr>\n",
       "    <tr>\n",
       "      <th>2019-12-24</th>\n",
       "      <td>0.009307</td>\n",
       "      <td>-0.000195</td>\n",
       "    </tr>\n",
       "    <tr>\n",
       "      <th>2019-12-26</th>\n",
       "      <td>0.004611</td>\n",
       "      <td>0.005128</td>\n",
       "    </tr>\n",
       "    <tr>\n",
       "      <th>2019-12-27</th>\n",
       "      <td>0.004262</td>\n",
       "      <td>0.000034</td>\n",
       "    </tr>\n",
       "    <tr>\n",
       "      <th>2019-12-30</th>\n",
       "      <td>-0.021936</td>\n",
       "      <td>-0.005781</td>\n",
       "    </tr>\n",
       "    <tr>\n",
       "      <th>2019-12-31</th>\n",
       "      <td>-0.001736</td>\n",
       "      <td>0.002946</td>\n",
       "    </tr>\n",
       "  </tbody>\n",
       "</table>\n",
       "<p>251 rows × 2 columns</p>\n",
       "</div>"
      ],
      "text/plain": [
       "            Spotify Percentage Change  S&P 500 Percentage Change\n",
       "Date                                                            \n",
       "2019-01-03                  -0.041498                  -0.024757\n",
       "2019-01-04                   0.087048                   0.034336\n",
       "2019-01-07                   0.007172                   0.007010\n",
       "2019-01-08                  -0.015751                   0.009695\n",
       "2019-01-09                   0.044348                   0.004098\n",
       "...                               ...                        ...\n",
       "2019-12-24                   0.009307                  -0.000195\n",
       "2019-12-26                   0.004611                   0.005128\n",
       "2019-12-27                   0.004262                   0.000034\n",
       "2019-12-30                  -0.021936                  -0.005781\n",
       "2019-12-31                  -0.001736                   0.002946\n",
       "\n",
       "[251 rows x 2 columns]"
      ]
     },
     "execution_count": 50,
     "metadata": {},
     "output_type": "execute_result"
    }
   ],
   "source": [
    "SPOT_DataFrame=pd.DataFrame(SPOTDaily_Change) #Q3.a & Q3.b\n",
    "SPOT_DataFrame[\"S&P 500 Percentage Change\"]=SPDaily_Change.values\n",
    "SPOT_DataFrame"
   ]
  },
  {
   "cell_type": "code",
   "execution_count": 51,
   "id": "bf427efd",
   "metadata": {},
   "outputs": [],
   "source": [
    "X4 = SPOT_DataFrame[\"Spotify Percentage Change\"].values.reshape(-1, 1)\n",
    "Y4 = SPOT_DataFrame[\"S&P 500 Percentage Change\"].values.reshape(-1, 1)\n",
    "SPOT_LR = LinearRegression()\n",
    "SPOT_LR.fit(X4,Y4)\n",
    "Y4_pred = SPOT_LR.predict(X4)"
   ]
  },
  {
   "cell_type": "code",
   "execution_count": 52,
   "id": "5b9c059d",
   "metadata": {
    "scrolled": true
   },
   "outputs": [
    {
     "data": {
      "image/png": "[encoded data removed]",
      "text/plain": [
       "<Figure size 432x288 with 1 Axes>"
      ]
     },
     "metadata": {
      "needs_background": "light"
     },
     "output_type": "display_data"
    }
   ],
   "source": [
    "plt.scatter(X4,Y4)\n",
    "plt.plot(X4,Y4_pred,color='red')\n",
    "plt.title(\"Spotify vs S&P 500 (Daily Percentage Change)\")\n",
    "plt.xlabel(\"Spotify\")\n",
    "plt.ylabel(\"S&P 500\")\n",
    "plt.show()"
   ]
  },
  {
   "cell_type": "code",
   "execution_count": 53,
   "id": "76671f67",
   "metadata": {},
   "outputs": [
    {
     "name": "stdout",
     "output_type": "stream",
     "text": [
      "Spotify Regression Statistics\n",
      "\n",
      "Intercept: [0.00081064]\n",
      "Coefficient(Slope): [[0.1682007]]\n",
      "R-Squared: 0.23908294698033905\n",
      "MSE: 4.696906762588659e-05\n"
     ]
    }
   ],
   "source": [
    "SPOT_r2 = metrics.r2_score(Y4,Y4_pred) #Q3.c\n",
    "SPOT_mse = metrics.mean_squared_error(Y4,Y4_pred)\n",
    "\n",
    "print(\"Spotify Regression Statistics\\n\")\n",
    "print('Intercept:',SPOT_LR.intercept_) #Intercept\n",
    "print('Coefficient(Slope):',SPOT_LR.coef_) #Slope (Coefficient of X)\n",
    "print(\"R-Squared:\",SPOT_r2) #R-Squared\n",
    "print(\"MSE:\",SPOT_mse) #Mean Squared Error"
   ]
  },
  {
   "cell_type": "markdown",
   "id": "dc6c70c5",
   "metadata": {},
   "source": [
    "### Tesla Inc. (TSLA)"
   ]
  },
  {
   "cell_type": "code",
   "execution_count": 54,
   "id": "4bda969e",
   "metadata": {},
   "outputs": [
    {
     "data": {
      "text/html": [
       "<div>\n",
       "<style scoped>\n",
       "    .dataframe tbody tr th:only-of-type {\n",
       "        vertical-align: middle;\n",
       "    }\n",
       "\n",
       "    .dataframe tbody tr th {\n",
       "        vertical-align: top;\n",
       "    }\n",
       "\n",
       "    .dataframe thead th {\n",
       "        text-align: right;\n",
       "    }\n",
       "</style>\n",
       "<table border=\"1\" class=\"dataframe\">\n",
       "  <thead>\n",
       "    <tr style=\"text-align: right;\">\n",
       "      <th></th>\n",
       "      <th>Tesla Percentage Change</th>\n",
       "      <th>S&amp;P 500 Percentage Change</th>\n",
       "    </tr>\n",
       "    <tr>\n",
       "      <th>Date</th>\n",
       "      <th></th>\n",
       "      <th></th>\n",
       "    </tr>\n",
       "  </thead>\n",
       "  <tbody>\n",
       "    <tr>\n",
       "      <th>2019-01-03</th>\n",
       "      <td>-0.031472</td>\n",
       "      <td>-0.024757</td>\n",
       "    </tr>\n",
       "    <tr>\n",
       "      <th>2019-01-04</th>\n",
       "      <td>0.057697</td>\n",
       "      <td>0.034336</td>\n",
       "    </tr>\n",
       "    <tr>\n",
       "      <th>2019-01-07</th>\n",
       "      <td>0.054361</td>\n",
       "      <td>0.007010</td>\n",
       "    </tr>\n",
       "    <tr>\n",
       "      <th>2019-01-08</th>\n",
       "      <td>0.001164</td>\n",
       "      <td>0.009695</td>\n",
       "    </tr>\n",
       "    <tr>\n",
       "      <th>2019-01-09</th>\n",
       "      <td>0.009483</td>\n",
       "      <td>0.004098</td>\n",
       "    </tr>\n",
       "    <tr>\n",
       "      <th>...</th>\n",
       "      <td>...</td>\n",
       "      <td>...</td>\n",
       "    </tr>\n",
       "    <tr>\n",
       "      <th>2019-12-24</th>\n",
       "      <td>0.014384</td>\n",
       "      <td>-0.000195</td>\n",
       "    </tr>\n",
       "    <tr>\n",
       "      <th>2019-12-26</th>\n",
       "      <td>0.013380</td>\n",
       "      <td>0.005128</td>\n",
       "    </tr>\n",
       "    <tr>\n",
       "      <th>2019-12-27</th>\n",
       "      <td>-0.001299</td>\n",
       "      <td>0.000034</td>\n",
       "    </tr>\n",
       "    <tr>\n",
       "      <th>2019-12-30</th>\n",
       "      <td>-0.036433</td>\n",
       "      <td>-0.005781</td>\n",
       "    </tr>\n",
       "    <tr>\n",
       "      <th>2019-12-31</th>\n",
       "      <td>0.008753</td>\n",
       "      <td>0.002946</td>\n",
       "    </tr>\n",
       "  </tbody>\n",
       "</table>\n",
       "<p>251 rows × 2 columns</p>\n",
       "</div>"
      ],
      "text/plain": [
       "            Tesla Percentage Change  S&P 500 Percentage Change\n",
       "Date                                                          \n",
       "2019-01-03                -0.031472                  -0.024757\n",
       "2019-01-04                 0.057697                   0.034336\n",
       "2019-01-07                 0.054361                   0.007010\n",
       "2019-01-08                 0.001164                   0.009695\n",
       "2019-01-09                 0.009483                   0.004098\n",
       "...                             ...                        ...\n",
       "2019-12-24                 0.014384                  -0.000195\n",
       "2019-12-26                 0.013380                   0.005128\n",
       "2019-12-27                -0.001299                   0.000034\n",
       "2019-12-30                -0.036433                  -0.005781\n",
       "2019-12-31                 0.008753                   0.002946\n",
       "\n",
       "[251 rows x 2 columns]"
      ]
     },
     "execution_count": 54,
     "metadata": {},
     "output_type": "execute_result"
    }
   ],
   "source": [
    "TSLA_DataFrame=pd.DataFrame(TSLADaily_Change) #Q3.a & Q3.b\n",
    "TSLA_DataFrame[\"S&P 500 Percentage Change\"]=SPDaily_Change.values\n",
    "TSLA_DataFrame"
   ]
  },
  {
   "cell_type": "code",
   "execution_count": 55,
   "id": "c4ff200d",
   "metadata": {},
   "outputs": [],
   "source": [
    "X5 = TSLA_DataFrame[\"Tesla Percentage Change\"].values.reshape(-1, 1)\n",
    "Y5 = TSLA_DataFrame[\"S&P 500 Percentage Change\"].values.reshape(-1, 1)\n",
    "TSLA_LR = LinearRegression()\n",
    "TSLA_LR.fit(X5,Y5)\n",
    "Y5_pred = TSLA_LR.predict(X5)"
   ]
  },
  {
   "cell_type": "code",
   "execution_count": 56,
   "id": "aaba24fe",
   "metadata": {},
   "outputs": [
    {
     "data": {
      "image/png": "[encoded data removed]",
      "text/plain": [
       "<Figure size 432x288 with 1 Axes>"
      ]
     },
     "metadata": {
      "needs_background": "light"
     },
     "output_type": "display_data"
    }
   ],
   "source": [
    "plt.scatter(X5,Y5)\n",
    "plt.plot(X5,Y5_pred,color='red')\n",
    "plt.title(\"Tesla vs S&P 500 (Daily Percentage Change)\")\n",
    "plt.xlabel(\"Tesla\")\n",
    "plt.ylabel(\"S&P 500\")\n",
    "plt.show()"
   ]
  },
  {
   "cell_type": "code",
   "execution_count": 57,
   "id": "af4634ec",
   "metadata": {},
   "outputs": [
    {
     "name": "stdout",
     "output_type": "stream",
     "text": [
      "Tesla Regression Statistics\n",
      "\n",
      "Intercept: [0.00089368]\n",
      "Coefficient(Slope): [[0.08601369]]\n",
      "R-Squared: 0.1133740226087474\n",
      "MSE: 5.4728692602821085e-05\n"
     ]
    }
   ],
   "source": [
    "TSLA_r2 = metrics.r2_score(Y5,Y5_pred) #Q3.c\n",
    "TSLA_mse = metrics.mean_squared_error(Y5,Y5_pred)\n",
    "\n",
    "\n",
    "print(\"Tesla Regression Statistics\\n\")\n",
    "print('Intercept:',TSLA_LR.intercept_) #Intercept\n",
    "print('Coefficient(Slope):',TSLA_LR.coef_) #Slope (Coefficient of X)\n",
    "print(\"R-Squared:\",TSLA_r2) #R-Squared\n",
    "print(\"MSE:\",TSLA_mse) #Mean Squared Error"
   ]
  },
  {
   "cell_type": "markdown",
   "id": "6b53e593",
   "metadata": {},
   "source": [
    "## Question 3: Part D\n",
    "### Which asset has the highest correlation with the S&P 500 and which asset is the least correlated?"
   ]
  },
  {
   "cell_type": "markdown",
   "id": "4c28ed1d",
   "metadata": {},
   "source": [
    "#### Answer:\n",
    "The closer R-Squared is to 1, the stronger the correlation. The closer R-Squared is to 0, the weaker the correlation. Therefore:\n",
    "\n",
    "The asset that has the highest correlation with the S&P 500 is Apple Inc. (AAPL). The R-Squared is 0.55.\n",
    "\n",
    "The asset that is least correlated with the S&P 500 is Tesla Inc. (TSLA). The R-Squared is 0.11."
   ]
  }
 ],
 "metadata": {
  "kernelspec": {
   "display_name": "Python 3",
   "language": "python",
   "name": "python3"
  },
  "language_info": {
   "codemirror_mode": {
    "name": "ipython",
    "version": 3
   },
   "file_extension": ".py",
   "mimetype": "text/x-python",
   "name": "python",
   "nbconvert_exporter": "python",
   "pygments_lexer": "ipython3",
   "version": "3.8.8"
  }
 },
 "nbformat": 4,
 "nbformat_minor": 5
}
